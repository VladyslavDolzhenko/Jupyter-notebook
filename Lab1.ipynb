{
 "cells": [
  {
   "cell_type": "code",
   "execution_count": 1,
   "id": "186de308-5227-4802-b27d-8592676d2e6a",
   "metadata": {},
   "outputs": [
    {
     "data": {
      "text/plain": [
       "7"
      ]
     },
     "execution_count": 1,
     "metadata": {},
     "output_type": "execute_result"
    }
   ],
   "source": [
    "ord(\"V\") % 10 + 1"
   ]
  },
  {
   "cell_type": "markdown",
   "id": "d928928c-76a9-41d1-a0ae-f267fdba0de8",
   "metadata": {},
   "source": [
    "# <span style=\"color: #003897; font-style: italic;\">Ісландія</span>\n",
    "\n",
    "## Загальні відомості\n",
    "\n",
    "<span style=\"color: #003897; font-style: italic; font-size: 18px\">Ісландія</span> - острівна країна в північній частині Атлантичного океану.\n",
    "\n",
    "- **Площа**: 103000 км²\n",
    "- **Населення**: ~382000 осіб\n",
    "- **Столиця**: Рейк'явік\n",
    "- **Державний устрій**: унітарна парламентська республіка\n",
    "\n",
    "## Видатні персоналії\n",
    "\n",
    "- **Сноррі Стурлусон** — ісландський історик, поет, політичний діяч.\n",
    "- **Галлдор Лакснесс** — лауреат Нобелівської премії з літератури.\n",
    "- **Бйорк** — всесвітньо відома співачка та акторка.\n",
    "\n",
    "## Пам'ятки культури та природи\n",
    "\n",
    "### <span style=\"color: green; font-style: italic;\">Природні пам'ятки</span>\n",
    "\n",
    "- **Гейзери**\n",
    "  - Великий Гейзер\n",
    "  - Строккур\n",
    "- **Водоспади**\n",
    "  - Гульфосс\n",
    "  - Сельяландсфосс\n",
    "\n",
    "### Культурні пам'ятки\n",
    "\n",
    "- **Національний музей Ісландії**\n",
    "- **Собор Гадльгрімскірк'я**\n",
    "\n",
    "<div style=\"border:2px solid black; padding: 10px;\">\n",
    "  <span style=\"color: orange; font-style: italic; font-size: 24px\">Ця країна відома своїми мальовничими ландшафтами, серед яких вулкани, гейзери, гарячі джерела і лавові поля.</span>\n",
    "</div>\n",
    "\n",
    "## Демографія\n",
    "\n",
    "| Показник | Значення |\n",
    "|----------|----------|\n",
    "| Населення | 382000 |\n",
    "| Офіційна мова | Ісландська |\n",
    "| ВВП (на душу населення) | $55917 |\n",
    "\n",
    "## Список значущих природних об'єктів\n",
    "\n",
    "1. Вулкани\n",
    "   - Ейяф'ятлайокютль\n",
    "   - Гекла\n",
    "2. Гейзери\n",
    "   - **Великий Гейзер**\n",
    "   - **Строккур**\n",
    "\n",
    "## Зображення\n",
    "\n",
    "![Краєвид Ісландії](data:image/jpeg;base64,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)\n",
    "\n",
    "[Рейк'явік](https://encrypted-tbn2.gstatic.com/licensed-image?q=tbn:ANd9GcT5bEDpgOLgWVdWrvTUZb8ASUwNKoCbhStHkj3ZDvE3AjTlJBVEXA5-D-eP3RKHjRuN5T80Q_gDGVcSjTZ9tOq-BvRsDoEnUwUjAYxSIQ)\n",
    "\n",
    "## Додаткові ресурси\n",
    "\n",
    "Для детальнішої інформації про Ісландію відвідайте [Wikipedia](https://uk.wikipedia.org/wiki/%D0%86%D1%81%D0%BB%D0%B0%D0%BD%D0%B4%D1%96%D1%8F)."
   ]
  },
  {
   "cell_type": "code",
   "execution_count": 2,
   "id": "ef606d5d-887c-498b-bd2c-d1e330809f1c",
   "metadata": {},
   "outputs": [
    {
     "data": {
      "text/html": [
       "<svg width=\"300\" height=\"200\">\n",
       "  <rect width=\"300\" height=\"200\" fill=\"#003897\" />\n",
       "\n",
       "  <rect x=\"100\" width=\"40\" height=\"200\" fill=\"#ffffff\" />\n",
       "  <rect y=\"80\" width=\"300\" height=\"40\" fill=\"#ffffff\" />\n",
       "\n",
       "  <rect x=\"110\" width=\"20\" height=\"200\" fill=\"#d72828\" />\n",
       "  <rect y=\"90\" width=\"300\" height=\"20\" fill=\"#d72828\" />\n",
       "</svg>\n"
      ],
      "text/plain": [
       "<IPython.core.display.HTML object>"
      ]
     },
     "metadata": {},
     "output_type": "display_data"
    }
   ],
   "source": [
    "%%html\n",
    "<svg width=\"300\" height=\"200\">\n",
    "  <rect width=\"300\" height=\"200\" fill=\"#003897\" />\n",
    "\n",
    "  <rect x=\"100\" width=\"40\" height=\"200\" fill=\"#ffffff\" />\n",
    "  <rect y=\"80\" width=\"300\" height=\"40\" fill=\"#ffffff\" />\n",
    "\n",
    "  <rect x=\"110\" width=\"20\" height=\"200\" fill=\"#d72828\" />\n",
    "  <rect y=\"90\" width=\"300\" height=\"20\" fill=\"#d72828\" />\n",
    "</svg>"
   ]
  },
  {
   "cell_type": "code",
   "execution_count": 3,
   "id": "281c5259-e5ac-4fec-88f7-1a6e65b0e5cf",
   "metadata": {},
   "outputs": [
    {
     "name": "stdout",
     "output_type": "stream",
     "text": [
      "'80 у двійковій системі буде 0|1010000'\n",
      "\n",
      "'-80.53 у двійковій системі буде 1|1010000.100001111010111000010100011110101110000101001'\n",
      "\n",
      "Помилка: Значення має бути числом!\n"
     ]
    }
   ],
   "source": [
    "def decimal_to_binary(number):\n",
    "    if not isinstance(number, (int, float)):\n",
    "        print (\"Помилка: Значення має бути числом!\")\n",
    "        return\n",
    "    \n",
    "    is_negative = number < 0\n",
    "    number = abs(number)\n",
    "    \n",
    "    integer_part = int(number)\n",
    "    fractional_part = number - integer_part\n",
    "    \n",
    "    binary_integer = \"\"\n",
    "    if integer_part == 0:\n",
    "        binary_integer = \"0\"\n",
    "    else:\n",
    "        while integer_part > 0:\n",
    "            binary_integer = str(integer_part % 2) + binary_integer\n",
    "            integer_part //= 2\n",
    "    \n",
    "    binary_fractional = \"\"\n",
    "    while fractional_part > 0:\n",
    "        fractional_part *= 2\n",
    "        bit = int(fractional_part)\n",
    "        binary_fractional += str(bit)\n",
    "        fractional_part -= bit\n",
    "    \n",
    "    if binary_fractional:\n",
    "        binary_result = f\"{binary_integer}.{binary_fractional}\"\n",
    "    else:\n",
    "        binary_result = binary_integer\n",
    "    \n",
    "    return binary_result, is_negative\n",
    "\n",
    "\n",
    "def task_7(number):\n",
    "    binary_representation = decimal_to_binary(number)\n",
    "    \n",
    "    if binary_representation is None:\n",
    "        return\n",
    "    \n",
    "    binary_representation, is_negative = decimal_to_binary(number)\n",
    "        \n",
    "    if is_negative:\n",
    "        formatted_result = f\"1|{binary_representation}\"\n",
    "        return f\"'{number} у двійковій системі буде {formatted_result}'\"\n",
    "    else:\n",
    "        formatted_result = f\"0|{binary_representation}\"\n",
    "        return f\"'{number} у двійковій системі буде {formatted_result}'\"\n",
    "\n",
    "\n",
    "print(task_7(80) + '\\n')\n",
    "print(task_7(-80.53) + '\\n')\n",
    "task_7(\"f\")"
   ]
  }
 ],
 "metadata": {
  "kernelspec": {
   "display_name": "Python 3 (ipykernel)",
   "language": "python",
   "name": "python3"
  },
  "language_info": {
   "codemirror_mode": {
    "name": "ipython",
    "version": 3
   },
   "file_extension": ".py",
   "mimetype": "text/x-python",
   "name": "python",
   "nbconvert_exporter": "python",
   "pygments_lexer": "ipython3",
   "version": "3.12.4"
  }
 },
 "nbformat": 4,
 "nbformat_minor": 5
}
